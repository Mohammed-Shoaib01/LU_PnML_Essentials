{
  "nbformat": 4,
  "nbformat_minor": 0,
  "metadata": {
    "colab": {
      "provenance": []
    },
    "kernelspec": {
      "name": "python3",
      "display_name": "Python 3"
    },
    "language_info": {
      "name": "python"
    }
  },
  "cells": [
    {
      "cell_type": "markdown",
      "source": [
        "# **Creating a DataFrame**"
      ],
      "metadata": {
        "id": "86bWFduptfr3"
      }
    },
    {
      "cell_type": "code",
      "execution_count": 4,
      "metadata": {
        "id": "UCFPaqBUmKLf"
      },
      "outputs": [],
      "source": [
        "from pandas import DataFrame\n",
        "Vehicles = {'Company': ['Mercedes E','Honda City','Corolla Altis','Corolla Altis','BMW X'],\n",
        "'Amount': [15000,16000,17000,18000,20000],\n",
        "'Year': [2010,2011,2012,2013,2014] }\n",
        "df = DataFrame(Vehicles, columns= ['Company', 'Amount','Year'])\n"
      ]
    },
    {
      "cell_type": "markdown",
      "source": [
        "# **Statistics with Only One Column**"
      ],
      "metadata": {
        "id": "QQu_612ytuEw"
      }
    },
    {
      "cell_type": "code",
      "source": [
        "statistics_Acc = df['Amount'].describe()\n",
        "print (statistics_Acc)"
      ],
      "metadata": {
        "colab": {
          "base_uri": "https://localhost:8080/"
        },
        "id": "0Mww3in0t_O0",
        "outputId": "75c5be32-f3bd-4c59-888c-0cd48ae76220"
      },
      "execution_count": 5,
      "outputs": [
        {
          "output_type": "stream",
          "name": "stdout",
          "text": [
            "count        5.000000\n",
            "mean     17200.000000\n",
            "std       1923.538406\n",
            "min      15000.000000\n",
            "25%      16000.000000\n",
            "50%      17000.000000\n",
            "75%      18000.000000\n",
            "max      20000.000000\n",
            "Name: Amount, dtype: float64\n"
          ]
        }
      ]
    },
    {
      "cell_type": "markdown",
      "source": [
        "# **Statistics With Only One Column in Integer**"
      ],
      "metadata": {
        "id": "0_W82RltuaA8"
      }
    },
    {
      "cell_type": "code",
      "source": [
        "statistics_integer = df['Amount'].describe().astype (int)\n",
        "print (statistics_integer)"
      ],
      "metadata": {
        "colab": {
          "base_uri": "https://localhost:8080/"
        },
        "id": "ng7v9DICu-dM",
        "outputId": "3716defb-7b68-4775-b9cc-3dbea8d96240"
      },
      "execution_count": 6,
      "outputs": [
        {
          "output_type": "stream",
          "name": "stdout",
          "text": [
            "count        5\n",
            "mean     17200\n",
            "std       1923\n",
            "min      15000\n",
            "25%      16000\n",
            "50%      17000\n",
            "75%      18000\n",
            "max      20000\n",
            "Name: Amount, dtype: int64\n"
          ]
        }
      ]
    },
    {
      "cell_type": "markdown",
      "source": [
        "# **Statistics With All Columns**"
      ],
      "metadata": {
        "id": "uTqsi7_pvuDY"
      }
    },
    {
      "cell_type": "code",
      "source": [
        "statistics=df.describe(include='all')\n",
        "print (statistics)"
      ],
      "metadata": {
        "colab": {
          "base_uri": "https://localhost:8080/"
        },
        "id": "WWBt5B3wv_eb",
        "outputId": "df02874e-ad6f-41f5-a3b5-f7d0bd125e4f"
      },
      "execution_count": 7,
      "outputs": [
        {
          "output_type": "stream",
          "name": "stdout",
          "text": [
            "              Company        Amount         Year\n",
            "count               5      5.000000     5.000000\n",
            "unique              4           NaN          NaN\n",
            "top     Corolla Altis           NaN          NaN\n",
            "freq                2           NaN          NaN\n",
            "mean              NaN  17200.000000  2012.000000\n",
            "std               NaN   1923.538406     1.581139\n",
            "min               NaN  15000.000000  2010.000000\n",
            "25%               NaN  16000.000000  2011.000000\n",
            "50%               NaN  17000.000000  2012.000000\n",
            "75%               NaN  18000.000000  2013.000000\n",
            "max               NaN  20000.000000  2014.000000\n"
          ]
        }
      ]
    }
  ]
}
