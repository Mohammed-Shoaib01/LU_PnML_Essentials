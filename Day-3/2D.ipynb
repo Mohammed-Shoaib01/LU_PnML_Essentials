{
  "nbformat": 4,
  "nbformat_minor": 0,
  "metadata": {
    "colab": {
      "provenance": []
    },
    "kernelspec": {
      "name": "python3",
      "display_name": "Python 3"
    },
    "language_info": {
      "name": "python"
    }
  },
  "cells": [
    {
      "cell_type": "code",
      "source": [
        "import numpy as np",
        "x=int(input(\"X = \"))\n",
        "y=int(input(\"Y = \"))\n",
        "z=np.zeros((x,y))\n",
        "for r in range(x):\n",
        "  for c in range(y):\n",
        "    z[r,c]=r*c\n",
        "print(z)\n"
      ],
      "metadata": {
        "colab": {
          "base_uri": "https://localhost:8080/"
        },
        "id": "LFqz_-LLfmBT",
        "outputId": "a20b5632-6d94-46a1-fed5-f70c04655170"
      },
      "execution_count": 9,
      "outputs": [
        {
          "output_type": "stream",
          "name": "stdout",
          "text": [
            "X = 3\n",
            "Y = 3\n",
            "[[0. 0. 0.]\n",
            " [0. 1. 2.]\n",
            " [0. 2. 4.]]\n"
          ]
        }
      ]
    }
  ]
}
